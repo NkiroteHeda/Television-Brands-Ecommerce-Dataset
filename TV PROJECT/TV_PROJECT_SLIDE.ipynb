{
 "cells": [
  {
   "cell_type": "markdown",
   "id": "bedbf715",
   "metadata": {
    "slideshow": {
     "slide_type": "slide"
    }
   },
   "source": [
    "## Television Brands Ecommerce Dataset \n",
    "#### Dataset about products, specifications and ratings of various TV brands \n",
    "\n",
    "\n",
    "## By MIRIAM NKIROTE\n",
    "\n",
    "> source : kaggle.com"
   ]
  },
  {
   "cell_type": "markdown",
   "id": "a1edcb8c",
   "metadata": {
    "slideshow": {
     "slide_type": "slide"
    }
   },
   "source": [
    "### Dataset Overview\n",
    "\n",
    "This dataset contains 912 samples with 7 attributes. There are some missing values and duplicates in this dataset.\n",
    "\n",
    "#### Columns:\n",
    "\n",
    "    1. Brand: This indicates the manufacturer of the product i.e. Television\n",
    "    2. Resolution: This has multiple categories and indicates the type of display i.e. LED, HD LED, etc.\n",
    "    3. Size: This indicates the screen size in inches\n",
    "    4. Selling Price: This column has the Selling Price or the Discounted Price of the product\n",
    "    5. Original Price: This includes the Original Price of the product from the manufacturer.\n",
    "    6.Operating system: This categorical variable shows the type of OS like Android, Linux, etc.\n",
    "    7.Rating: Average customer ratings on a scale of 5"
   ]
  },
  {
   "cell_type": "markdown",
   "id": "daa69a61",
   "metadata": {
    "slideshow": {
     "slide_type": "slide"
    }
   },
   "source": [
    "### QUESTIONS\n",
    "    1. WHICH TV BRAND IS MOST EXPENSIVE\n",
    "    2. WHICH RESOLUTION IS MOST EXPENSIVE\n",
    "    3. WHICH OPERATIONG SYSTEM IS USED BY MOST BRANDS\n",
    "    4. WHICH TV BRAND HAS THE HIGHEST RATING\n",
    "    5  WHAT IS THE AVERAGE SELLING AND ORIGINAL PRICE OF EACH BRAND OF TV"
   ]
  },
  {
   "cell_type": "markdown",
   "id": "07307833",
   "metadata": {
    "slideshow": {
     "slide_type": "slide"
    }
   },
   "source": [
    "### Brand\n",
    "\n",
    "    The Brand with the highest selling price is Hisense, with the price of 499990.\n",
    "    On average Sharp, Samsung ,LG, Sony ,hisense have the highest average Selling and Original Prices which makes them the most expensive Brands.\n",
    "   "
   ]
  },
  {
   "cell_type": "code",
   "execution_count": 40,
   "id": "9f5bbc6f",
   "metadata": {
    "slideshow": {
     "slide_type": "subslide"
    }
   },
   "outputs": [
    {
     "data": {
      "text/html": [
       "<div>\n",
       "<style scoped>\n",
       "    .dataframe tbody tr th:only-of-type {\n",
       "        vertical-align: middle;\n",
       "    }\n",
       "\n",
       "    .dataframe tbody tr th {\n",
       "        vertical-align: top;\n",
       "    }\n",
       "\n",
       "    .dataframe thead th {\n",
       "        text-align: right;\n",
       "    }\n",
       "</style>\n",
       "<table border=\"1\" class=\"dataframe\">\n",
       "  <thead>\n",
       "    <tr style=\"text-align: right;\">\n",
       "      <th></th>\n",
       "      <th>Unnamed: 0</th>\n",
       "      <th>Size</th>\n",
       "      <th>Selling Price</th>\n",
       "      <th>Original Price</th>\n",
       "      <th>Rating</th>\n",
       "      <th>Discount</th>\n",
       "    </tr>\n",
       "    <tr>\n",
       "      <th>Brand</th>\n",
       "      <th></th>\n",
       "      <th></th>\n",
       "      <th></th>\n",
       "      <th></th>\n",
       "      <th></th>\n",
       "      <th></th>\n",
       "    </tr>\n",
       "  </thead>\n",
       "  <tbody>\n",
       "    <tr>\n",
       "      <th>SHARP</th>\n",
       "      <td>854.375000</td>\n",
       "      <td>46.750000</td>\n",
       "      <td>149672.000000</td>\n",
       "      <td>156656.250000</td>\n",
       "      <td>4.015764</td>\n",
       "      <td>6984.250000</td>\n",
       "    </tr>\n",
       "    <tr>\n",
       "      <th>SAMSUNG</th>\n",
       "      <td>373.513699</td>\n",
       "      <td>50.349315</td>\n",
       "      <td>107034.739726</td>\n",
       "      <td>131637.294521</td>\n",
       "      <td>4.256394</td>\n",
       "      <td>24602.554795</td>\n",
       "    </tr>\n",
       "    <tr>\n",
       "      <th>LG</th>\n",
       "      <td>390.051724</td>\n",
       "      <td>50.439655</td>\n",
       "      <td>96403.396552</td>\n",
       "      <td>136257.456897</td>\n",
       "      <td>4.283347</td>\n",
       "      <td>39854.060345</td>\n",
       "    </tr>\n",
       "    <tr>\n",
       "      <th>SONY</th>\n",
       "      <td>457.278689</td>\n",
       "      <td>49.967213</td>\n",
       "      <td>90071.409836</td>\n",
       "      <td>131795.000000</td>\n",
       "      <td>4.487313</td>\n",
       "      <td>41723.590164</td>\n",
       "    </tr>\n",
       "    <tr>\n",
       "      <th>HISENSE</th>\n",
       "      <td>215.000000</td>\n",
       "      <td>52.800000</td>\n",
       "      <td>89795.400000</td>\n",
       "      <td>100790.000000</td>\n",
       "      <td>4.331306</td>\n",
       "      <td>10994.600000</td>\n",
       "    </tr>\n",
       "  </tbody>\n",
       "</table>\n",
       "</div>"
      ],
      "text/plain": [
       "         Unnamed: 0      Size   Selling Price  Original Price    Rating  \\\n",
       "Brand                                                                     \n",
       "SHARP    854.375000  46.750000  149672.000000   156656.250000  4.015764   \n",
       "SAMSUNG  373.513699  50.349315  107034.739726   131637.294521  4.256394   \n",
       "LG       390.051724  50.439655   96403.396552   136257.456897  4.283347   \n",
       "SONY     457.278689  49.967213   90071.409836   131795.000000  4.487313   \n",
       "HISENSE  215.000000  52.800000   89795.400000   100790.000000  4.331306   \n",
       "\n",
       "             Discount  \n",
       "Brand                  \n",
       "SHARP     6984.250000  \n",
       "SAMSUNG  24602.554795  \n",
       "LG       39854.060345  \n",
       "SONY     41723.590164  \n",
       "HISENSE  10994.600000  "
      ]
     },
     "execution_count": 40,
     "metadata": {},
     "output_type": "execute_result"
    }
   ],
   "source": [
    "import pandas as pd\n",
    "import matplotlib.pyplot as plt\n",
    "import seaborn as sb\n",
    "df_clean=pd.read_csv('Tv_master.csv')\n",
    "df_brand=df_clean.groupby(['Brand']).mean()\n",
    "df_brand.sort_values(by='Selling Price',ascending=False).iloc[:5,:]\n"
   ]
  },
  {
   "cell_type": "code",
   "execution_count": 41,
   "id": "1d3ab08e",
   "metadata": {
    "slideshow": {
     "slide_type": "subslide"
    }
   },
   "outputs": [
    {
     "data": {
      "text/html": [
       "<div>\n",
       "<style scoped>\n",
       "    .dataframe tbody tr th:only-of-type {\n",
       "        vertical-align: middle;\n",
       "    }\n",
       "\n",
       "    .dataframe tbody tr th {\n",
       "        vertical-align: top;\n",
       "    }\n",
       "\n",
       "    .dataframe thead th {\n",
       "        text-align: right;\n",
       "    }\n",
       "</style>\n",
       "<table border=\"1\" class=\"dataframe\">\n",
       "  <thead>\n",
       "    <tr style=\"text-align: right;\">\n",
       "      <th></th>\n",
       "      <th>Unnamed: 0</th>\n",
       "      <th>Brand</th>\n",
       "      <th>Resolution</th>\n",
       "      <th>Size</th>\n",
       "      <th>Selling Price</th>\n",
       "      <th>Original Price</th>\n",
       "      <th>Operating System</th>\n",
       "      <th>Rating</th>\n",
       "      <th>Discount</th>\n",
       "    </tr>\n",
       "  </thead>\n",
       "  <tbody>\n",
       "    <tr>\n",
       "      <th>499</th>\n",
       "      <td>507</td>\n",
       "      <td>HISENSE</td>\n",
       "      <td>QLED Ultra HD</td>\n",
       "      <td>75</td>\n",
       "      <td>499990</td>\n",
       "      <td>499990</td>\n",
       "      <td>Android</td>\n",
       "      <td>4.237685</td>\n",
       "      <td>0</td>\n",
       "    </tr>\n",
       "  </tbody>\n",
       "</table>\n",
       "</div>"
      ],
      "text/plain": [
       "     Unnamed: 0    Brand     Resolution  Size   Selling Price  Original Price  \\\n",
       "499         507  HISENSE  QLED Ultra HD     75         499990          499990   \n",
       "\n",
       "    Operating System    Rating  Discount  \n",
       "499          Android  4.237685         0  "
      ]
     },
     "execution_count": 41,
     "metadata": {},
     "output_type": "execute_result"
    }
   ],
   "source": [
    "df_clean.loc[df_clean['Selling Price']==df_clean['Selling Price'].max()]"
   ]
  },
  {
   "cell_type": "markdown",
   "id": "be823e98",
   "metadata": {
    "slideshow": {
     "slide_type": "slide"
    }
   },
   "source": [
    "### Highest Rated Brand\n",
    "##### On average rating Sony, Oneplus,Vu ,Motorola , Haier and Hisense have the highest rating."
   ]
  },
  {
   "cell_type": "code",
   "execution_count": 42,
   "id": "553dbac9",
   "metadata": {},
   "outputs": [
    {
     "data": {
      "text/html": [
       "<div>\n",
       "<style scoped>\n",
       "    .dataframe tbody tr th:only-of-type {\n",
       "        vertical-align: middle;\n",
       "    }\n",
       "\n",
       "    .dataframe tbody tr th {\n",
       "        vertical-align: top;\n",
       "    }\n",
       "\n",
       "    .dataframe thead th {\n",
       "        text-align: right;\n",
       "    }\n",
       "</style>\n",
       "<table border=\"1\" class=\"dataframe\">\n",
       "  <thead>\n",
       "    <tr style=\"text-align: right;\">\n",
       "      <th></th>\n",
       "      <th>Unnamed: 0</th>\n",
       "      <th>Size</th>\n",
       "      <th>Selling Price</th>\n",
       "      <th>Original Price</th>\n",
       "      <th>Rating</th>\n",
       "      <th>Discount</th>\n",
       "    </tr>\n",
       "    <tr>\n",
       "      <th>Brand</th>\n",
       "      <th></th>\n",
       "      <th></th>\n",
       "      <th></th>\n",
       "      <th></th>\n",
       "      <th></th>\n",
       "      <th></th>\n",
       "    </tr>\n",
       "  </thead>\n",
       "  <tbody>\n",
       "    <tr>\n",
       "      <th>SONY</th>\n",
       "      <td>457.278689</td>\n",
       "      <td>49.967213</td>\n",
       "      <td>90071.409836</td>\n",
       "      <td>131795.000000</td>\n",
       "      <td>4.487313</td>\n",
       "      <td>41723.590164</td>\n",
       "    </tr>\n",
       "    <tr>\n",
       "      <th>ONEPLUS</th>\n",
       "      <td>395.000000</td>\n",
       "      <td>50.000000</td>\n",
       "      <td>47375.777778</td>\n",
       "      <td>54199.222222</td>\n",
       "      <td>4.388889</td>\n",
       "      <td>6823.444444</td>\n",
       "    </tr>\n",
       "    <tr>\n",
       "      <th>VU</th>\n",
       "      <td>493.086957</td>\n",
       "      <td>50.043478</td>\n",
       "      <td>46649.869565</td>\n",
       "      <td>66151.478261</td>\n",
       "      <td>4.356522</td>\n",
       "      <td>19501.608696</td>\n",
       "    </tr>\n",
       "    <tr>\n",
       "      <th>MOTOROLA</th>\n",
       "      <td>244.733333</td>\n",
       "      <td>48.066667</td>\n",
       "      <td>38399.000000</td>\n",
       "      <td>54825.933333</td>\n",
       "      <td>4.333333</td>\n",
       "      <td>16426.933333</td>\n",
       "    </tr>\n",
       "    <tr>\n",
       "      <th>HAIER</th>\n",
       "      <td>594.055556</td>\n",
       "      <td>45.000000</td>\n",
       "      <td>36616.222222</td>\n",
       "      <td>54976.722222</td>\n",
       "      <td>4.332690</td>\n",
       "      <td>18360.500000</td>\n",
       "    </tr>\n",
       "    <tr>\n",
       "      <th>HISENSE</th>\n",
       "      <td>215.000000</td>\n",
       "      <td>52.800000</td>\n",
       "      <td>89795.400000</td>\n",
       "      <td>100790.000000</td>\n",
       "      <td>4.331306</td>\n",
       "      <td>10994.600000</td>\n",
       "    </tr>\n",
       "  </tbody>\n",
       "</table>\n",
       "</div>"
      ],
      "text/plain": [
       "          Unnamed: 0      Size   Selling Price  Original Price    Rating  \\\n",
       "Brand                                                                      \n",
       "SONY      457.278689  49.967213   90071.409836   131795.000000  4.487313   \n",
       "ONEPLUS   395.000000  50.000000   47375.777778    54199.222222  4.388889   \n",
       "VU        493.086957  50.043478   46649.869565    66151.478261  4.356522   \n",
       "MOTOROLA  244.733333  48.066667   38399.000000    54825.933333  4.333333   \n",
       "HAIER     594.055556  45.000000   36616.222222    54976.722222  4.332690   \n",
       "HISENSE   215.000000  52.800000   89795.400000   100790.000000  4.331306   \n",
       "\n",
       "              Discount  \n",
       "Brand                   \n",
       "SONY      41723.590164  \n",
       "ONEPLUS    6823.444444  \n",
       "VU        19501.608696  \n",
       "MOTOROLA  16426.933333  \n",
       "HAIER     18360.500000  \n",
       "HISENSE   10994.600000  "
      ]
     },
     "execution_count": 42,
     "metadata": {},
     "output_type": "execute_result"
    }
   ],
   "source": [
    "df_brand.sort_values(by=['Rating'],ascending= False).iloc[:6,:]"
   ]
  },
  {
   "cell_type": "markdown",
   "id": "85c33eaf",
   "metadata": {
    "slideshow": {
     "slide_type": "slide"
    }
   },
   "source": [
    "### Brand\n",
    "#### Sharp and Samsung have the highest average original and selling Price"
   ]
  },
  {
   "cell_type": "code",
   "execution_count": 43,
   "id": "d2521e4f",
   "metadata": {
    "slideshow": {
     "slide_type": "subslide"
    }
   },
   "outputs": [
    {
     "data": {
      "text/html": [
       "<div>\n",
       "<style scoped>\n",
       "    .dataframe tbody tr th:only-of-type {\n",
       "        vertical-align: middle;\n",
       "    }\n",
       "\n",
       "    .dataframe tbody tr th {\n",
       "        vertical-align: top;\n",
       "    }\n",
       "\n",
       "    .dataframe thead th {\n",
       "        text-align: right;\n",
       "    }\n",
       "</style>\n",
       "<table border=\"1\" class=\"dataframe\">\n",
       "  <thead>\n",
       "    <tr style=\"text-align: right;\">\n",
       "      <th></th>\n",
       "      <th>Unnamed: 0</th>\n",
       "      <th>Size</th>\n",
       "      <th>Selling Price</th>\n",
       "      <th>Original Price</th>\n",
       "      <th>Rating</th>\n",
       "      <th>Discount</th>\n",
       "    </tr>\n",
       "    <tr>\n",
       "      <th>Brand</th>\n",
       "      <th></th>\n",
       "      <th></th>\n",
       "      <th></th>\n",
       "      <th></th>\n",
       "      <th></th>\n",
       "      <th></th>\n",
       "    </tr>\n",
       "  </thead>\n",
       "  <tbody>\n",
       "    <tr>\n",
       "      <th>SHARP</th>\n",
       "      <td>854.375000</td>\n",
       "      <td>46.750000</td>\n",
       "      <td>149672.000000</td>\n",
       "      <td>156656.250000</td>\n",
       "      <td>4.015764</td>\n",
       "      <td>6984.250000</td>\n",
       "    </tr>\n",
       "    <tr>\n",
       "      <th>SAMSUNG</th>\n",
       "      <td>373.513699</td>\n",
       "      <td>50.349315</td>\n",
       "      <td>107034.739726</td>\n",
       "      <td>131637.294521</td>\n",
       "      <td>4.256394</td>\n",
       "      <td>24602.554795</td>\n",
       "    </tr>\n",
       "  </tbody>\n",
       "</table>\n",
       "</div>"
      ],
      "text/plain": [
       "         Unnamed: 0      Size   Selling Price  Original Price    Rating  \\\n",
       "Brand                                                                     \n",
       "SHARP    854.375000  46.750000  149672.000000   156656.250000  4.015764   \n",
       "SAMSUNG  373.513699  50.349315  107034.739726   131637.294521  4.256394   \n",
       "\n",
       "             Discount  \n",
       "Brand                  \n",
       "SHARP     6984.250000  \n",
       "SAMSUNG  24602.554795  "
      ]
     },
     "execution_count": 43,
     "metadata": {},
     "output_type": "execute_result"
    }
   ],
   "source": [
    "df_brand.sort_values(by=['Selling Price','Original Price'],ascending= False).iloc[:2,:]"
   ]
  },
  {
   "cell_type": "markdown",
   "id": "269900d1",
   "metadata": {
    "slideshow": {
     "slide_type": "slide"
    }
   },
   "source": [
    "##  RESOLUTION \n",
    "   QLED Ultra HD Resolution has the highest average rating, and selling and original Price\n",
    " \n",
    "##### Ultra HD LED is the most common resolution"
   ]
  },
  {
   "cell_type": "code",
   "execution_count": 44,
   "id": "c5ade89c",
   "metadata": {
    "slideshow": {
     "slide_type": "subslide"
    }
   },
   "outputs": [
    {
     "data": {
      "image/png": "[encoded data removed]",
      "text/plain": [
       "<Figure size 432x288 with 1 Axes>"
      ]
     },
     "metadata": {
      "needs_background": "light"
     },
     "output_type": "display_data"
    }
   ],
   "source": [
    "#functions defined for countplot\n",
    "def count_plot(data,x,color):\n",
    "    sb.countplot(data=data,x=x,color=color)\n",
    "#function defined for labels and title\n",
    "def x_y_t(xlabel,ylabel,title):\n",
    "    plt.xlabel(xlabel)\n",
    "    plt.ylabel(ylabel)\n",
    "    plt.title(title)\n",
    "    \n",
    "    \n",
    "#resolution countplot\n",
    "count_plot(df_clean,'Resolution',color)\n",
    "plt.xticks(rotation=30)\n",
    "x_y_t('Resolution','Count','Resolution Distribution')"
   ]
  },
  {
   "cell_type": "code",
   "execution_count": 45,
   "id": "73e0d965",
   "metadata": {
    "slideshow": {
     "slide_type": "subslide"
    }
   },
   "outputs": [
    {
     "data": {
      "text/html": [
       "<div>\n",
       "<style scoped>\n",
       "    .dataframe tbody tr th:only-of-type {\n",
       "        vertical-align: middle;\n",
       "    }\n",
       "\n",
       "    .dataframe tbody tr th {\n",
       "        vertical-align: top;\n",
       "    }\n",
       "\n",
       "    .dataframe thead th {\n",
       "        text-align: right;\n",
       "    }\n",
       "</style>\n",
       "<table border=\"1\" class=\"dataframe\">\n",
       "  <thead>\n",
       "    <tr style=\"text-align: right;\">\n",
       "      <th></th>\n",
       "      <th>Unnamed: 0</th>\n",
       "      <th>Size</th>\n",
       "      <th>Selling Price</th>\n",
       "      <th>Original Price</th>\n",
       "      <th>Rating</th>\n",
       "      <th>Discount</th>\n",
       "    </tr>\n",
       "    <tr>\n",
       "      <th>Resolution</th>\n",
       "      <th></th>\n",
       "      <th></th>\n",
       "      <th></th>\n",
       "      <th></th>\n",
       "      <th></th>\n",
       "      <th></th>\n",
       "    </tr>\n",
       "  </thead>\n",
       "  <tbody>\n",
       "    <tr>\n",
       "      <th>QLED Ultra HD</th>\n",
       "      <td>322.650000</td>\n",
       "      <td>57.466667</td>\n",
       "      <td>125417.450000</td>\n",
       "      <td>180293.083333</td>\n",
       "      <td>4.367369</td>\n",
       "      <td>54875.633333</td>\n",
       "    </tr>\n",
       "    <tr>\n",
       "      <th>Ultra HD LED</th>\n",
       "      <td>392.915385</td>\n",
       "      <td>54.146154</td>\n",
       "      <td>78099.771795</td>\n",
       "      <td>112825.425641</td>\n",
       "      <td>4.275207</td>\n",
       "      <td>34725.653846</td>\n",
       "    </tr>\n",
       "    <tr>\n",
       "      <th>HD Plasma</th>\n",
       "      <td>696.333333</td>\n",
       "      <td>47.333333</td>\n",
       "      <td>56996.666667</td>\n",
       "      <td>56996.666667</td>\n",
       "      <td>3.845895</td>\n",
       "      <td>0.000000</td>\n",
       "    </tr>\n",
       "    <tr>\n",
       "      <th>Full HD LED</th>\n",
       "      <td>528.238095</td>\n",
       "      <td>43.509524</td>\n",
       "      <td>53053.885714</td>\n",
       "      <td>62866.719048</td>\n",
       "      <td>4.246819</td>\n",
       "      <td>9812.833333</td>\n",
       "    </tr>\n",
       "    <tr>\n",
       "      <th>HD LED</th>\n",
       "      <td>504.735160</td>\n",
       "      <td>30.995434</td>\n",
       "      <td>15447.324201</td>\n",
       "      <td>21640.712329</td>\n",
       "      <td>4.131945</td>\n",
       "      <td>6193.388128</td>\n",
       "    </tr>\n",
       "  </tbody>\n",
       "</table>\n",
       "</div>"
      ],
      "text/plain": [
       "               Unnamed: 0      Size   Selling Price  Original Price    Rating  \\\n",
       "Resolution                                                                      \n",
       "QLED Ultra HD  322.650000  57.466667  125417.450000   180293.083333  4.367369   \n",
       "Ultra HD LED   392.915385  54.146154   78099.771795   112825.425641  4.275207   \n",
       "HD Plasma      696.333333  47.333333   56996.666667    56996.666667  3.845895   \n",
       "Full HD LED    528.238095  43.509524   53053.885714    62866.719048  4.246819   \n",
       "HD LED         504.735160  30.995434   15447.324201    21640.712329  4.131945   \n",
       "\n",
       "                   Discount  \n",
       "Resolution                   \n",
       "QLED Ultra HD  54875.633333  \n",
       "Ultra HD LED   34725.653846  \n",
       "HD Plasma          0.000000  \n",
       "Full HD LED     9812.833333  \n",
       "HD LED          6193.388128  "
      ]
     },
     "execution_count": 45,
     "metadata": {},
     "output_type": "execute_result"
    }
   ],
   "source": [
    "df_resolution=df_clean.groupby(['Resolution']).mean()\n",
    "df_resolution.sort_values(by=['Selling Price'],ascending= False)\n"
   ]
  },
  {
   "cell_type": "markdown",
   "id": "124a8157",
   "metadata": {
    "slideshow": {
     "slide_type": "slide"
    }
   },
   "source": [
    "###  OPERATIONG SYSTEMS\n",
    "#### Android is the most used Operating System in the dataset\n",
    "#### Fire OS has the highest avergae rating\n",
    "#### On average Tizen and WebOS operating systems have the highest selling and original price"
   ]
  },
  {
   "cell_type": "code",
   "execution_count": 46,
   "id": "3adfdcf7",
   "metadata": {
    "slideshow": {
     "slide_type": "subslide"
    }
   },
   "outputs": [
    {
     "data": {
      "text/plain": [
       "(array([0, 1, 2, 3, 4, 5, 6, 7]),\n",
       " [Text(0, 0, 'VIDAA'),\n",
       "  Text(1, 0, 'Android'),\n",
       "  Text(2, 0, 'Linux'),\n",
       "  Text(3, 0, 'Unknown'),\n",
       "  Text(4, 0, 'Tizen'),\n",
       "  Text(5, 0, 'WebOS'),\n",
       "  Text(6, 0, 'HomeOS'),\n",
       "  Text(7, 0, 'FireTV OS')])"
      ]
     },
     "execution_count": 46,
     "metadata": {},
     "output_type": "execute_result"
    },
    {
     "data": {
      "image/png": "[encoded data removed]",
      "text/plain": [
       "<Figure size 432x288 with 1 Axes>"
      ]
     },
     "metadata": {
      "needs_background": "light"
     },
     "output_type": "display_data"
    }
   ],
   "source": [
    "sb.countplot(data=df_clean,x='Operating System',color=color)\n",
    "x_y_t('Operating System','Count','Operating System Distribution')\n",
    "plt.xticks(rotation=30)"
   ]
  },
  {
   "cell_type": "code",
   "execution_count": 47,
   "id": "408c10a6",
   "metadata": {
    "slideshow": {
     "slide_type": "subslide"
    }
   },
   "outputs": [
    {
     "data": {
      "text/html": [
       "<div>\n",
       "<style scoped>\n",
       "    .dataframe tbody tr th:only-of-type {\n",
       "        vertical-align: middle;\n",
       "    }\n",
       "\n",
       "    .dataframe tbody tr th {\n",
       "        vertical-align: top;\n",
       "    }\n",
       "\n",
       "    .dataframe thead th {\n",
       "        text-align: right;\n",
       "    }\n",
       "</style>\n",
       "<table border=\"1\" class=\"dataframe\">\n",
       "  <thead>\n",
       "    <tr style=\"text-align: right;\">\n",
       "      <th></th>\n",
       "      <th>Unnamed: 0</th>\n",
       "      <th>Size</th>\n",
       "      <th>Selling Price</th>\n",
       "      <th>Original Price</th>\n",
       "      <th>Rating</th>\n",
       "      <th>Discount</th>\n",
       "    </tr>\n",
       "    <tr>\n",
       "      <th>Operating System</th>\n",
       "      <th></th>\n",
       "      <th></th>\n",
       "      <th></th>\n",
       "      <th></th>\n",
       "      <th></th>\n",
       "      <th></th>\n",
       "    </tr>\n",
       "  </thead>\n",
       "  <tbody>\n",
       "    <tr>\n",
       "      <th>Tizen</th>\n",
       "      <td>374.937931</td>\n",
       "      <td>50.400000</td>\n",
       "      <td>107459.806897</td>\n",
       "      <td>132152.724138</td>\n",
       "      <td>4.256093</td>\n",
       "      <td>24692.917241</td>\n",
       "    </tr>\n",
       "    <tr>\n",
       "      <th>WebOS</th>\n",
       "      <td>376.825243</td>\n",
       "      <td>53.038835</td>\n",
       "      <td>106315.611650</td>\n",
       "      <td>150398.553398</td>\n",
       "      <td>4.302604</td>\n",
       "      <td>44082.941748</td>\n",
       "    </tr>\n",
       "  </tbody>\n",
       "</table>\n",
       "</div>"
      ],
      "text/plain": [
       "                  Unnamed: 0      Size   Selling Price  Original Price  \\\n",
       "Operating System                                                         \n",
       "Tizen             374.937931  50.400000  107459.806897   132152.724138   \n",
       "WebOS             376.825243  53.038835  106315.611650   150398.553398   \n",
       "\n",
       "                    Rating      Discount  \n",
       "Operating System                          \n",
       "Tizen             4.256093  24692.917241  \n",
       "WebOS             4.302604  44082.941748  "
      ]
     },
     "execution_count": 47,
     "metadata": {},
     "output_type": "execute_result"
    }
   ],
   "source": [
    "df_os=df_clean.groupby(['Operating System']).mean()\n",
    "df_os.sort_values(by=['Selling Price'],ascending =False).iloc[:2,:]"
   ]
  },
  {
   "cell_type": "code",
   "execution_count": 48,
   "id": "31968231",
   "metadata": {
    "slideshow": {
     "slide_type": "subslide"
    }
   },
   "outputs": [
    {
     "data": {
      "text/html": [
       "<div>\n",
       "<style scoped>\n",
       "    .dataframe tbody tr th:only-of-type {\n",
       "        vertical-align: middle;\n",
       "    }\n",
       "\n",
       "    .dataframe tbody tr th {\n",
       "        vertical-align: top;\n",
       "    }\n",
       "\n",
       "    .dataframe thead th {\n",
       "        text-align: right;\n",
       "    }\n",
       "</style>\n",
       "<table border=\"1\" class=\"dataframe\">\n",
       "  <thead>\n",
       "    <tr style=\"text-align: right;\">\n",
       "      <th></th>\n",
       "      <th>Unnamed: 0</th>\n",
       "      <th>Size</th>\n",
       "      <th>Selling Price</th>\n",
       "      <th>Original Price</th>\n",
       "      <th>Rating</th>\n",
       "      <th>Discount</th>\n",
       "    </tr>\n",
       "    <tr>\n",
       "      <th>Operating System</th>\n",
       "      <th></th>\n",
       "      <th></th>\n",
       "      <th></th>\n",
       "      <th></th>\n",
       "      <th></th>\n",
       "      <th></th>\n",
       "    </tr>\n",
       "  </thead>\n",
       "  <tbody>\n",
       "    <tr>\n",
       "      <th>FireTV OS</th>\n",
       "      <td>369.200000</td>\n",
       "      <td>41.000000</td>\n",
       "      <td>30490.000000</td>\n",
       "      <td>43000.000000</td>\n",
       "      <td>4.390148</td>\n",
       "      <td>12510.000000</td>\n",
       "    </tr>\n",
       "    <tr>\n",
       "      <th>VIDAA</th>\n",
       "      <td>445.153846</td>\n",
       "      <td>49.230769</td>\n",
       "      <td>38852.846154</td>\n",
       "      <td>55069.692308</td>\n",
       "      <td>4.306802</td>\n",
       "      <td>16216.846154</td>\n",
       "    </tr>\n",
       "  </tbody>\n",
       "</table>\n",
       "</div>"
      ],
      "text/plain": [
       "                  Unnamed: 0      Size   Selling Price  Original Price  \\\n",
       "Operating System                                                         \n",
       "FireTV OS         369.200000  41.000000   30490.000000    43000.000000   \n",
       "VIDAA             445.153846  49.230769   38852.846154    55069.692308   \n",
       "\n",
       "                    Rating      Discount  \n",
       "Operating System                          \n",
       "FireTV OS         4.390148  12510.000000  \n",
       "VIDAA             4.306802  16216.846154  "
      ]
     },
     "execution_count": 48,
     "metadata": {},
     "output_type": "execute_result"
    }
   ],
   "source": [
    "df_os.sort_values(by=['Rating'],ascending =False).iloc[:2,:]"
   ]
  },
  {
   "cell_type": "markdown",
   "id": "70ae9dd2",
   "metadata": {
    "slideshow": {
     "slide_type": "slide"
    }
   },
   "source": [
    "## Thank You!"
   ]
  },
  {
   "cell_type": "code",
   "execution_count": null,
   "id": "c3d942c6",
   "metadata": {
    "slideshow": {
     "slide_type": "skip"
    }
   },
   "outputs": [],
   "source": []
  },
  {
   "cell_type": "code",
   "execution_count": null,
   "id": "ece2f8aa",
   "metadata": {
    "slideshow": {
     "slide_type": "skip"
    }
   },
   "outputs": [],
   "source": []
  },
  {
   "cell_type": "code",
   "execution_count": null,
   "id": "5fc70733",
   "metadata": {
    "slideshow": {
     "slide_type": "skip"
    }
   },
   "outputs": [],
   "source": []
  },
  {
   "cell_type": "code",
   "execution_count": null,
   "id": "3cd819dc",
   "metadata": {
    "slideshow": {
     "slide_type": "skip"
    }
   },
   "outputs": [],
   "source": []
  },
  {
   "cell_type": "code",
   "execution_count": null,
   "id": "5cb50b87",
   "metadata": {
    "slideshow": {
     "slide_type": "skip"
    }
   },
   "outputs": [],
   "source": []
  },
  {
   "cell_type": "code",
   "execution_count": 49,
   "id": "04a7c739",
   "metadata": {
    "slideshow": {
     "slide_type": "skip"
    }
   },
   "outputs": [
    {
     "name": "stderr",
     "output_type": "stream",
     "text": [
      "[NbConvertApp] Converting notebook TV_PROJECT_SLIDE.ipynb to slides\n",
      "[NbConvertApp] Writing 629992 bytes to TV_PROJECT_SLIDE.slides.html\n",
      "[NbConvertApp] Redirecting reveal.js requests to https://cdnjs.cloudflare.com/ajax/libs/reveal.js/3.5.0\n",
      "Traceback (most recent call last):\n",
      "  File \"C:\\Users\\ADMIN\\anaconda3\\AnacondaNew\\Scripts\\jupyter-nbconvert-script.py\", line 10, in <module>\n",
      "    sys.exit(main())\n",
      "  File \"C:\\Users\\ADMIN\\anaconda3\\AnacondaNew\\lib\\site-packages\\jupyter_core\\application.py\", line 264, in launch_instance\n",
      "    return super(JupyterApp, cls).launch_instance(argv=argv, **kwargs)\n",
      "  File \"C:\\Users\\ADMIN\\anaconda3\\AnacondaNew\\lib\\site-packages\\traitlets\\config\\application.py\", line 846, in launch_instance\n",
      "    app.start()\n",
      "  File \"C:\\Users\\ADMIN\\anaconda3\\AnacondaNew\\lib\\site-packages\\nbconvert\\nbconvertapp.py\", line 369, in start\n",
      "    self.convert_notebooks()\n",
      "  File \"C:\\Users\\ADMIN\\anaconda3\\AnacondaNew\\lib\\site-packages\\nbconvert\\nbconvertapp.py\", line 541, in convert_notebooks\n",
      "    self.convert_single_notebook(notebook_filename)\n",
      "  File \"C:\\Users\\ADMIN\\anaconda3\\AnacondaNew\\lib\\site-packages\\nbconvert\\nbconvertapp.py\", line 508, in convert_single_notebook\n",
      "    self.postprocess_single_notebook(write_results)\n",
      "  File \"C:\\Users\\ADMIN\\anaconda3\\AnacondaNew\\lib\\site-packages\\nbconvert\\nbconvertapp.py\", line 480, in postprocess_single_notebook\n",
      "    self.postprocessor(write_results)\n",
      "  File \"C:\\Users\\ADMIN\\anaconda3\\AnacondaNew\\lib\\site-packages\\nbconvert\\postprocessors\\base.py\", line 28, in __call__\n",
      "    self.postprocess(input)\n",
      "  File \"C:\\Users\\ADMIN\\anaconda3\\AnacondaNew\\lib\\site-packages\\nbconvert\\postprocessors\\serve.py\", line 90, in postprocess\n",
      "    http_server.listen(self.port, address=self.ip)\n",
      "  File \"C:\\Users\\ADMIN\\anaconda3\\AnacondaNew\\lib\\site-packages\\tornado\\tcpserver.py\", line 151, in listen\n",
      "    sockets = bind_sockets(port, address=address)\n",
      "  File \"C:\\Users\\ADMIN\\anaconda3\\AnacondaNew\\lib\\site-packages\\tornado\\netutil.py\", line 161, in bind_sockets\n",
      "    sock.bind(sockaddr)\n",
      "OSError: [WinError 10048] Only one usage of each socket address (protocol/network address/port) is normally permitted\n"
     ]
    }
   ],
   "source": [
    "!jupyter nbconvert TV_PROJECT_SLIDE.ipynb --to slides --post serve --no-input --no-prompt "
   ]
  },
  {
   "cell_type": "code",
   "execution_count": null,
   "id": "26cb410f",
   "metadata": {},
   "outputs": [],
   "source": []
  }
 ],
 "metadata": {
  "celltoolbar": "Slideshow",
  "kernelspec": {
   "display_name": "Python 3 (ipykernel)",
   "language": "python",
   "name": "python3"
  },
  "language_info": {
   "codemirror_mode": {
    "name": "ipython",
    "version": 3
   },
   "file_extension": ".py",
   "mimetype": "text/x-python",
   "name": "python",
   "nbconvert_exporter": "python",
   "pygments_lexer": "ipython3",
   "version": "3.9.12"
  }
 },
 "nbformat": 4,
 "nbformat_minor": 5
}
